{
 "cells": [
  {
   "cell_type": "code",
   "execution_count": null,
   "metadata": {},
   "outputs": [
    {
     "name": "stdout",
     "output_type": "stream",
     "text": [
      "網頁標題: 國立臺灣大學 - 體育室場地租借管理系統\n",
      "健身房現在人數: 88\n"
     ]
    }
   ],
   "source": [
    "import requests\n",
    "from bs4 import BeautifulSoup\n",
    "\n",
    "# 設定要爬取的網址\n",
    "url = 'https://rent.pe.ntu.edu.tw'  # 替換成你想要爬取的網址\n",
    "\n",
    "# 發送 GET 請求\n",
    "response = requests.get(url)\n",
    "\n",
    "# 確認請求是否成功\n",
    "if response.status_code == 200:\n",
    "    # 解析 HTML 內容\n",
    "    soup = BeautifulSoup(response.text, 'html.parser')\n",
    "    \n",
    "    # 獲取網頁標題\n",
    "    #title = soup.title.string\n",
    "    #print(f\"網頁標題: {title}\")\n",
    "\n",
    "    # 獲取所有段落內容\n",
    "    paragraphs = soup.find_all('span')\n",
    "    for idx, paragraph in enumerate(paragraphs):\n",
    "        if idx == 8:\n",
    "            print(f\"健身房現在人數: {paragraph.get_text()}\")\n",
    "else:\n",
    "    print(f\"無法訪問網址，狀態碼: {response.status_code}\")\n",
    "\n"
   ]
  }
 ],
 "metadata": {
  "kernelspec": {
   "display_name": "met",
   "language": "python",
   "name": "python3"
  },
  "language_info": {
   "codemirror_mode": {
    "name": "ipython",
    "version": 3
   },
   "file_extension": ".py",
   "mimetype": "text/x-python",
   "name": "python",
   "nbconvert_exporter": "python",
   "pygments_lexer": "ipython3",
   "version": "3.9.13"
  }
 },
 "nbformat": 4,
 "nbformat_minor": 2
}
